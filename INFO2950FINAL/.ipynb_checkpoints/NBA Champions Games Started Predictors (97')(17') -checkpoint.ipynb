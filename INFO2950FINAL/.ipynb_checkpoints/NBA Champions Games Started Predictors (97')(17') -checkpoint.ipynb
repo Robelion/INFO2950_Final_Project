{
 "cells": [
  {
   "cell_type": "code",
   "execution_count": 1,
   "metadata": {},
   "outputs": [],
   "source": [
    "import numpy as np\n",
    "import pandas as pd\n",
    "import matplotlib.pyplot as plt\n",
    "from sklearn.metrics import r2_score\n",
    "from sklearn.linear_model import LinearRegression"
   ]
  },
  {
   "cell_type": "markdown",
   "metadata": {},
   "source": [
    "**First we loaded our csv files into pandas data frame:**"
   ]
  },
  {
   "cell_type": "code",
   "execution_count": 2,
   "metadata": {},
   "outputs": [],
   "source": [
    "bostonCeltics86 = pd.read_csv(\"bostonCeltics86.csv\")\n",
    "chicagoBulls97 = pd.read_csv(\"chicagoBulls97.csv\")\n",
    "losAngelesLakers10 = pd.read_csv(\"losAngelesLakers10.csv\")\n",
    "goldenStateWarriors17 = pd.read_csv(\"goldenStateWarriors17.csv\")"
   ]
  },
  {
   "cell_type": "markdown",
   "metadata": {},
   "source": [
    "**Here are the first 5 players' statistics of the championship teams.**"
   ]
  },
  {
   "cell_type": "code",
   "execution_count": 3,
   "metadata": {},
   "outputs": [
    {
     "data": {
      "text/html": [
       "<div>\n",
       "<style scoped>\n",
       "    .dataframe tbody tr th:only-of-type {\n",
       "        vertical-align: middle;\n",
       "    }\n",
       "\n",
       "    .dataframe tbody tr th {\n",
       "        vertical-align: top;\n",
       "    }\n",
       "\n",
       "    .dataframe thead th {\n",
       "        text-align: right;\n",
       "    }\n",
       "</style>\n",
       "<table border=\"1\" class=\"dataframe\">\n",
       "  <thead>\n",
       "    <tr style=\"text-align: right;\">\n",
       "      <th></th>\n",
       "      <th>Rk</th>\n",
       "      <th>Player</th>\n",
       "      <th>Age</th>\n",
       "      <th>G</th>\n",
       "      <th>GS</th>\n",
       "      <th>MP</th>\n",
       "      <th>FG</th>\n",
       "      <th>FGA</th>\n",
       "      <th>FG%</th>\n",
       "      <th>3P</th>\n",
       "      <th>...</th>\n",
       "      <th>FT%</th>\n",
       "      <th>ORB</th>\n",
       "      <th>DRB</th>\n",
       "      <th>TRB</th>\n",
       "      <th>AST</th>\n",
       "      <th>STL</th>\n",
       "      <th>BLK</th>\n",
       "      <th>TOV</th>\n",
       "      <th>PF</th>\n",
       "      <th>PTS/G</th>\n",
       "    </tr>\n",
       "  </thead>\n",
       "  <tbody>\n",
       "    <tr>\n",
       "      <td>0</td>\n",
       "      <td>1</td>\n",
       "      <td>Larry Bird</td>\n",
       "      <td>29</td>\n",
       "      <td>82</td>\n",
       "      <td>81</td>\n",
       "      <td>38.0</td>\n",
       "      <td>9.7</td>\n",
       "      <td>19.6</td>\n",
       "      <td>0.496</td>\n",
       "      <td>1.0</td>\n",
       "      <td>...</td>\n",
       "      <td>0.896</td>\n",
       "      <td>2.3</td>\n",
       "      <td>7.5</td>\n",
       "      <td>9.8</td>\n",
       "      <td>6.8</td>\n",
       "      <td>2.0</td>\n",
       "      <td>0.6</td>\n",
       "      <td>3.2</td>\n",
       "      <td>2.2</td>\n",
       "      <td>25.8</td>\n",
       "    </tr>\n",
       "    <tr>\n",
       "      <td>1</td>\n",
       "      <td>2</td>\n",
       "      <td>Kevin McHale</td>\n",
       "      <td>28</td>\n",
       "      <td>68</td>\n",
       "      <td>62</td>\n",
       "      <td>35.3</td>\n",
       "      <td>8.3</td>\n",
       "      <td>14.4</td>\n",
       "      <td>0.574</td>\n",
       "      <td>0.0</td>\n",
       "      <td>...</td>\n",
       "      <td>0.776</td>\n",
       "      <td>2.5</td>\n",
       "      <td>5.6</td>\n",
       "      <td>8.1</td>\n",
       "      <td>2.7</td>\n",
       "      <td>0.4</td>\n",
       "      <td>2.0</td>\n",
       "      <td>2.2</td>\n",
       "      <td>2.8</td>\n",
       "      <td>21.3</td>\n",
       "    </tr>\n",
       "    <tr>\n",
       "      <td>2</td>\n",
       "      <td>3</td>\n",
       "      <td>Dennis Johnson</td>\n",
       "      <td>31</td>\n",
       "      <td>78</td>\n",
       "      <td>78</td>\n",
       "      <td>35.0</td>\n",
       "      <td>6.2</td>\n",
       "      <td>13.6</td>\n",
       "      <td>0.455</td>\n",
       "      <td>0.1</td>\n",
       "      <td>...</td>\n",
       "      <td>0.818</td>\n",
       "      <td>0.9</td>\n",
       "      <td>2.6</td>\n",
       "      <td>3.4</td>\n",
       "      <td>5.8</td>\n",
       "      <td>1.4</td>\n",
       "      <td>0.4</td>\n",
       "      <td>2.2</td>\n",
       "      <td>2.6</td>\n",
       "      <td>15.6</td>\n",
       "    </tr>\n",
       "    <tr>\n",
       "      <td>3</td>\n",
       "      <td>4</td>\n",
       "      <td>Robert Parish</td>\n",
       "      <td>32</td>\n",
       "      <td>81</td>\n",
       "      <td>80</td>\n",
       "      <td>31.7</td>\n",
       "      <td>6.5</td>\n",
       "      <td>11.9</td>\n",
       "      <td>0.549</td>\n",
       "      <td>0.0</td>\n",
       "      <td>...</td>\n",
       "      <td>0.731</td>\n",
       "      <td>3.0</td>\n",
       "      <td>6.5</td>\n",
       "      <td>9.5</td>\n",
       "      <td>1.8</td>\n",
       "      <td>0.8</td>\n",
       "      <td>1.4</td>\n",
       "      <td>2.3</td>\n",
       "      <td>2.7</td>\n",
       "      <td>16.1</td>\n",
       "    </tr>\n",
       "    <tr>\n",
       "      <td>4</td>\n",
       "      <td>5</td>\n",
       "      <td>Danny Ainge</td>\n",
       "      <td>26</td>\n",
       "      <td>80</td>\n",
       "      <td>78</td>\n",
       "      <td>30.1</td>\n",
       "      <td>4.4</td>\n",
       "      <td>8.8</td>\n",
       "      <td>0.504</td>\n",
       "      <td>0.3</td>\n",
       "      <td>...</td>\n",
       "      <td>0.904</td>\n",
       "      <td>0.6</td>\n",
       "      <td>2.4</td>\n",
       "      <td>2.9</td>\n",
       "      <td>5.1</td>\n",
       "      <td>1.2</td>\n",
       "      <td>0.1</td>\n",
       "      <td>1.6</td>\n",
       "      <td>2.6</td>\n",
       "      <td>10.7</td>\n",
       "    </tr>\n",
       "  </tbody>\n",
       "</table>\n",
       "<p>5 rows × 28 columns</p>\n",
       "</div>"
      ],
      "text/plain": [
       "   Rk          Player  Age   G  GS    MP   FG   FGA    FG%   3P  ...    FT%  \\\n",
       "0   1      Larry Bird   29  82  81  38.0  9.7  19.6  0.496  1.0  ...  0.896   \n",
       "1   2    Kevin McHale   28  68  62  35.3  8.3  14.4  0.574  0.0  ...  0.776   \n",
       "2   3  Dennis Johnson   31  78  78  35.0  6.2  13.6  0.455  0.1  ...  0.818   \n",
       "3   4   Robert Parish   32  81  80  31.7  6.5  11.9  0.549  0.0  ...  0.731   \n",
       "4   5     Danny Ainge   26  80  78  30.1  4.4   8.8  0.504  0.3  ...  0.904   \n",
       "\n",
       "   ORB  DRB  TRB  AST  STL  BLK  TOV   PF  PTS/G  \n",
       "0  2.3  7.5  9.8  6.8  2.0  0.6  3.2  2.2   25.8  \n",
       "1  2.5  5.6  8.1  2.7  0.4  2.0  2.2  2.8   21.3  \n",
       "2  0.9  2.6  3.4  5.8  1.4  0.4  2.2  2.6   15.6  \n",
       "3  3.0  6.5  9.5  1.8  0.8  1.4  2.3  2.7   16.1  \n",
       "4  0.6  2.4  2.9  5.1  1.2  0.1  1.6  2.6   10.7  \n",
       "\n",
       "[5 rows x 28 columns]"
      ]
     },
     "execution_count": 3,
     "metadata": {},
     "output_type": "execute_result"
    }
   ],
   "source": [
    "bostonCeltics86.head()"
   ]
  },
  {
   "cell_type": "code",
   "execution_count": 4,
   "metadata": {},
   "outputs": [
    {
     "data": {
      "text/html": [
       "<div>\n",
       "<style scoped>\n",
       "    .dataframe tbody tr th:only-of-type {\n",
       "        vertical-align: middle;\n",
       "    }\n",
       "\n",
       "    .dataframe tbody tr th {\n",
       "        vertical-align: top;\n",
       "    }\n",
       "\n",
       "    .dataframe thead th {\n",
       "        text-align: right;\n",
       "    }\n",
       "</style>\n",
       "<table border=\"1\" class=\"dataframe\">\n",
       "  <thead>\n",
       "    <tr style=\"text-align: right;\">\n",
       "      <th></th>\n",
       "      <th>Rk</th>\n",
       "      <th>Player</th>\n",
       "      <th>Age</th>\n",
       "      <th>G</th>\n",
       "      <th>GS</th>\n",
       "      <th>MP</th>\n",
       "      <th>FG</th>\n",
       "      <th>FGA</th>\n",
       "      <th>FG%</th>\n",
       "      <th>3P</th>\n",
       "      <th>...</th>\n",
       "      <th>FT%</th>\n",
       "      <th>ORB</th>\n",
       "      <th>DRB</th>\n",
       "      <th>TRB</th>\n",
       "      <th>AST</th>\n",
       "      <th>STL</th>\n",
       "      <th>BLK</th>\n",
       "      <th>TOV</th>\n",
       "      <th>PF</th>\n",
       "      <th>PTS/G</th>\n",
       "    </tr>\n",
       "  </thead>\n",
       "  <tbody>\n",
       "    <tr>\n",
       "      <td>0</td>\n",
       "      <td>1</td>\n",
       "      <td>Michael Jordan</td>\n",
       "      <td>33</td>\n",
       "      <td>82</td>\n",
       "      <td>82</td>\n",
       "      <td>37.9</td>\n",
       "      <td>11.2</td>\n",
       "      <td>23.1</td>\n",
       "      <td>0.486</td>\n",
       "      <td>1.4</td>\n",
       "      <td>...</td>\n",
       "      <td>0.833</td>\n",
       "      <td>1.4</td>\n",
       "      <td>4.5</td>\n",
       "      <td>5.9</td>\n",
       "      <td>4.3</td>\n",
       "      <td>1.7</td>\n",
       "      <td>0.5</td>\n",
       "      <td>2.0</td>\n",
       "      <td>1.9</td>\n",
       "      <td>29.6</td>\n",
       "    </tr>\n",
       "    <tr>\n",
       "      <td>1</td>\n",
       "      <td>2</td>\n",
       "      <td>Scottie Pippen</td>\n",
       "      <td>31</td>\n",
       "      <td>82</td>\n",
       "      <td>82</td>\n",
       "      <td>37.7</td>\n",
       "      <td>7.9</td>\n",
       "      <td>16.7</td>\n",
       "      <td>0.474</td>\n",
       "      <td>1.9</td>\n",
       "      <td>...</td>\n",
       "      <td>0.701</td>\n",
       "      <td>2.0</td>\n",
       "      <td>4.5</td>\n",
       "      <td>6.5</td>\n",
       "      <td>5.7</td>\n",
       "      <td>1.9</td>\n",
       "      <td>0.5</td>\n",
       "      <td>2.6</td>\n",
       "      <td>2.6</td>\n",
       "      <td>20.2</td>\n",
       "    </tr>\n",
       "    <tr>\n",
       "      <td>2</td>\n",
       "      <td>3</td>\n",
       "      <td>Dennis Rodman</td>\n",
       "      <td>35</td>\n",
       "      <td>55</td>\n",
       "      <td>54</td>\n",
       "      <td>35.4</td>\n",
       "      <td>2.3</td>\n",
       "      <td>5.2</td>\n",
       "      <td>0.448</td>\n",
       "      <td>0.1</td>\n",
       "      <td>...</td>\n",
       "      <td>0.568</td>\n",
       "      <td>5.8</td>\n",
       "      <td>10.2</td>\n",
       "      <td>16.1</td>\n",
       "      <td>3.1</td>\n",
       "      <td>0.6</td>\n",
       "      <td>0.3</td>\n",
       "      <td>2.0</td>\n",
       "      <td>3.1</td>\n",
       "      <td>5.7</td>\n",
       "    </tr>\n",
       "    <tr>\n",
       "      <td>3</td>\n",
       "      <td>4</td>\n",
       "      <td>Toni Kukoč</td>\n",
       "      <td>28</td>\n",
       "      <td>57</td>\n",
       "      <td>15</td>\n",
       "      <td>28.2</td>\n",
       "      <td>5.0</td>\n",
       "      <td>10.6</td>\n",
       "      <td>0.471</td>\n",
       "      <td>0.9</td>\n",
       "      <td>...</td>\n",
       "      <td>0.770</td>\n",
       "      <td>1.6</td>\n",
       "      <td>2.9</td>\n",
       "      <td>4.6</td>\n",
       "      <td>4.5</td>\n",
       "      <td>1.1</td>\n",
       "      <td>0.5</td>\n",
       "      <td>1.6</td>\n",
       "      <td>1.7</td>\n",
       "      <td>13.2</td>\n",
       "    </tr>\n",
       "    <tr>\n",
       "      <td>4</td>\n",
       "      <td>5</td>\n",
       "      <td>Luc Longley</td>\n",
       "      <td>28</td>\n",
       "      <td>59</td>\n",
       "      <td>59</td>\n",
       "      <td>24.9</td>\n",
       "      <td>3.7</td>\n",
       "      <td>8.2</td>\n",
       "      <td>0.456</td>\n",
       "      <td>0.0</td>\n",
       "      <td>...</td>\n",
       "      <td>0.792</td>\n",
       "      <td>2.1</td>\n",
       "      <td>3.6</td>\n",
       "      <td>5.6</td>\n",
       "      <td>2.4</td>\n",
       "      <td>0.4</td>\n",
       "      <td>1.1</td>\n",
       "      <td>1.9</td>\n",
       "      <td>3.2</td>\n",
       "      <td>9.1</td>\n",
       "    </tr>\n",
       "  </tbody>\n",
       "</table>\n",
       "<p>5 rows × 28 columns</p>\n",
       "</div>"
      ],
      "text/plain": [
       "   Rk          Player  Age   G  GS    MP    FG   FGA    FG%   3P  ...    FT%  \\\n",
       "0   1  Michael Jordan   33  82  82  37.9  11.2  23.1  0.486  1.4  ...  0.833   \n",
       "1   2  Scottie Pippen   31  82  82  37.7   7.9  16.7  0.474  1.9  ...  0.701   \n",
       "2   3   Dennis Rodman   35  55  54  35.4   2.3   5.2  0.448  0.1  ...  0.568   \n",
       "3   4      Toni Kukoč   28  57  15  28.2   5.0  10.6  0.471  0.9  ...  0.770   \n",
       "4   5     Luc Longley   28  59  59  24.9   3.7   8.2  0.456  0.0  ...  0.792   \n",
       "\n",
       "   ORB   DRB   TRB  AST  STL  BLK  TOV   PF  PTS/G  \n",
       "0  1.4   4.5   5.9  4.3  1.7  0.5  2.0  1.9   29.6  \n",
       "1  2.0   4.5   6.5  5.7  1.9  0.5  2.6  2.6   20.2  \n",
       "2  5.8  10.2  16.1  3.1  0.6  0.3  2.0  3.1    5.7  \n",
       "3  1.6   2.9   4.6  4.5  1.1  0.5  1.6  1.7   13.2  \n",
       "4  2.1   3.6   5.6  2.4  0.4  1.1  1.9  3.2    9.1  \n",
       "\n",
       "[5 rows x 28 columns]"
      ]
     },
     "execution_count": 4,
     "metadata": {},
     "output_type": "execute_result"
    }
   ],
   "source": [
    "chicagoBulls97.head()"
   ]
  },
  {
   "cell_type": "code",
   "execution_count": 5,
   "metadata": {},
   "outputs": [
    {
     "data": {
      "text/html": [
       "<div>\n",
       "<style scoped>\n",
       "    .dataframe tbody tr th:only-of-type {\n",
       "        vertical-align: middle;\n",
       "    }\n",
       "\n",
       "    .dataframe tbody tr th {\n",
       "        vertical-align: top;\n",
       "    }\n",
       "\n",
       "    .dataframe thead th {\n",
       "        text-align: right;\n",
       "    }\n",
       "</style>\n",
       "<table border=\"1\" class=\"dataframe\">\n",
       "  <thead>\n",
       "    <tr style=\"text-align: right;\">\n",
       "      <th></th>\n",
       "      <th>Rk</th>\n",
       "      <th>Player</th>\n",
       "      <th>Age</th>\n",
       "      <th>G</th>\n",
       "      <th>GS</th>\n",
       "      <th>MP</th>\n",
       "      <th>FG</th>\n",
       "      <th>FGA</th>\n",
       "      <th>FG%</th>\n",
       "      <th>3P</th>\n",
       "      <th>...</th>\n",
       "      <th>FT%</th>\n",
       "      <th>ORB</th>\n",
       "      <th>DRB</th>\n",
       "      <th>TRB</th>\n",
       "      <th>AST</th>\n",
       "      <th>STL</th>\n",
       "      <th>BLK</th>\n",
       "      <th>TOV</th>\n",
       "      <th>PF</th>\n",
       "      <th>PTS/G</th>\n",
       "    </tr>\n",
       "  </thead>\n",
       "  <tbody>\n",
       "    <tr>\n",
       "      <td>0</td>\n",
       "      <td>1</td>\n",
       "      <td>Kobe Bryant</td>\n",
       "      <td>31</td>\n",
       "      <td>73</td>\n",
       "      <td>73</td>\n",
       "      <td>38.8</td>\n",
       "      <td>9.8</td>\n",
       "      <td>21.5</td>\n",
       "      <td>0.456</td>\n",
       "      <td>1.4</td>\n",
       "      <td>...</td>\n",
       "      <td>0.811</td>\n",
       "      <td>1.1</td>\n",
       "      <td>4.3</td>\n",
       "      <td>5.4</td>\n",
       "      <td>5.0</td>\n",
       "      <td>1.5</td>\n",
       "      <td>0.3</td>\n",
       "      <td>3.2</td>\n",
       "      <td>2.6</td>\n",
       "      <td>27.0</td>\n",
       "    </tr>\n",
       "    <tr>\n",
       "      <td>1</td>\n",
       "      <td>2</td>\n",
       "      <td>Pau Gasol</td>\n",
       "      <td>29</td>\n",
       "      <td>65</td>\n",
       "      <td>65</td>\n",
       "      <td>37.0</td>\n",
       "      <td>7.0</td>\n",
       "      <td>13.0</td>\n",
       "      <td>0.536</td>\n",
       "      <td>0.0</td>\n",
       "      <td>...</td>\n",
       "      <td>0.790</td>\n",
       "      <td>3.7</td>\n",
       "      <td>7.6</td>\n",
       "      <td>11.3</td>\n",
       "      <td>3.4</td>\n",
       "      <td>0.6</td>\n",
       "      <td>1.7</td>\n",
       "      <td>2.2</td>\n",
       "      <td>2.3</td>\n",
       "      <td>18.3</td>\n",
       "    </tr>\n",
       "    <tr>\n",
       "      <td>2</td>\n",
       "      <td>3</td>\n",
       "      <td>Metta World Peace</td>\n",
       "      <td>30</td>\n",
       "      <td>77</td>\n",
       "      <td>77</td>\n",
       "      <td>33.8</td>\n",
       "      <td>4.0</td>\n",
       "      <td>9.6</td>\n",
       "      <td>0.414</td>\n",
       "      <td>1.4</td>\n",
       "      <td>...</td>\n",
       "      <td>0.688</td>\n",
       "      <td>1.3</td>\n",
       "      <td>3.0</td>\n",
       "      <td>4.3</td>\n",
       "      <td>3.0</td>\n",
       "      <td>1.4</td>\n",
       "      <td>0.3</td>\n",
       "      <td>1.6</td>\n",
       "      <td>2.1</td>\n",
       "      <td>11.0</td>\n",
       "    </tr>\n",
       "    <tr>\n",
       "      <td>3</td>\n",
       "      <td>4</td>\n",
       "      <td>Lamar Odom</td>\n",
       "      <td>30</td>\n",
       "      <td>82</td>\n",
       "      <td>38</td>\n",
       "      <td>31.5</td>\n",
       "      <td>4.2</td>\n",
       "      <td>9.0</td>\n",
       "      <td>0.463</td>\n",
       "      <td>0.7</td>\n",
       "      <td>...</td>\n",
       "      <td>0.693</td>\n",
       "      <td>2.2</td>\n",
       "      <td>7.5</td>\n",
       "      <td>9.8</td>\n",
       "      <td>3.3</td>\n",
       "      <td>0.9</td>\n",
       "      <td>0.7</td>\n",
       "      <td>1.8</td>\n",
       "      <td>2.8</td>\n",
       "      <td>10.8</td>\n",
       "    </tr>\n",
       "    <tr>\n",
       "      <td>4</td>\n",
       "      <td>5</td>\n",
       "      <td>Andrew Bynum</td>\n",
       "      <td>22</td>\n",
       "      <td>65</td>\n",
       "      <td>65</td>\n",
       "      <td>30.4</td>\n",
       "      <td>6.0</td>\n",
       "      <td>10.6</td>\n",
       "      <td>0.570</td>\n",
       "      <td>0.0</td>\n",
       "      <td>...</td>\n",
       "      <td>0.739</td>\n",
       "      <td>2.7</td>\n",
       "      <td>5.6</td>\n",
       "      <td>8.3</td>\n",
       "      <td>1.0</td>\n",
       "      <td>0.5</td>\n",
       "      <td>1.4</td>\n",
       "      <td>1.8</td>\n",
       "      <td>3.0</td>\n",
       "      <td>15.0</td>\n",
       "    </tr>\n",
       "  </tbody>\n",
       "</table>\n",
       "<p>5 rows × 28 columns</p>\n",
       "</div>"
      ],
      "text/plain": [
       "   Rk             Player  Age   G  GS    MP   FG   FGA    FG%   3P  ...  \\\n",
       "0   1        Kobe Bryant   31  73  73  38.8  9.8  21.5  0.456  1.4  ...   \n",
       "1   2          Pau Gasol   29  65  65  37.0  7.0  13.0  0.536  0.0  ...   \n",
       "2   3  Metta World Peace   30  77  77  33.8  4.0   9.6  0.414  1.4  ...   \n",
       "3   4         Lamar Odom   30  82  38  31.5  4.2   9.0  0.463  0.7  ...   \n",
       "4   5       Andrew Bynum   22  65  65  30.4  6.0  10.6  0.570  0.0  ...   \n",
       "\n",
       "     FT%  ORB  DRB   TRB  AST  STL  BLK  TOV   PF  PTS/G  \n",
       "0  0.811  1.1  4.3   5.4  5.0  1.5  0.3  3.2  2.6   27.0  \n",
       "1  0.790  3.7  7.6  11.3  3.4  0.6  1.7  2.2  2.3   18.3  \n",
       "2  0.688  1.3  3.0   4.3  3.0  1.4  0.3  1.6  2.1   11.0  \n",
       "3  0.693  2.2  7.5   9.8  3.3  0.9  0.7  1.8  2.8   10.8  \n",
       "4  0.739  2.7  5.6   8.3  1.0  0.5  1.4  1.8  3.0   15.0  \n",
       "\n",
       "[5 rows x 28 columns]"
      ]
     },
     "execution_count": 5,
     "metadata": {},
     "output_type": "execute_result"
    }
   ],
   "source": [
    "losAngelesLakers10.head()"
   ]
  },
  {
   "cell_type": "code",
   "execution_count": 6,
   "metadata": {},
   "outputs": [
    {
     "data": {
      "text/html": [
       "<div>\n",
       "<style scoped>\n",
       "    .dataframe tbody tr th:only-of-type {\n",
       "        vertical-align: middle;\n",
       "    }\n",
       "\n",
       "    .dataframe tbody tr th {\n",
       "        vertical-align: top;\n",
       "    }\n",
       "\n",
       "    .dataframe thead th {\n",
       "        text-align: right;\n",
       "    }\n",
       "</style>\n",
       "<table border=\"1\" class=\"dataframe\">\n",
       "  <thead>\n",
       "    <tr style=\"text-align: right;\">\n",
       "      <th></th>\n",
       "      <th>Rk</th>\n",
       "      <th>Player</th>\n",
       "      <th>Age</th>\n",
       "      <th>G</th>\n",
       "      <th>GS</th>\n",
       "      <th>MP</th>\n",
       "      <th>FG</th>\n",
       "      <th>FGA</th>\n",
       "      <th>FG%</th>\n",
       "      <th>3P</th>\n",
       "      <th>...</th>\n",
       "      <th>FT%</th>\n",
       "      <th>ORB</th>\n",
       "      <th>DRB</th>\n",
       "      <th>TRB</th>\n",
       "      <th>AST</th>\n",
       "      <th>STL</th>\n",
       "      <th>BLK</th>\n",
       "      <th>TOV</th>\n",
       "      <th>PF</th>\n",
       "      <th>PTS/G</th>\n",
       "    </tr>\n",
       "  </thead>\n",
       "  <tbody>\n",
       "    <tr>\n",
       "      <td>0</td>\n",
       "      <td>1</td>\n",
       "      <td>Klay Thompson</td>\n",
       "      <td>26</td>\n",
       "      <td>78</td>\n",
       "      <td>78</td>\n",
       "      <td>34.0</td>\n",
       "      <td>8.3</td>\n",
       "      <td>17.6</td>\n",
       "      <td>0.468</td>\n",
       "      <td>3.4</td>\n",
       "      <td>...</td>\n",
       "      <td>0.853</td>\n",
       "      <td>0.6</td>\n",
       "      <td>3.0</td>\n",
       "      <td>3.7</td>\n",
       "      <td>2.1</td>\n",
       "      <td>0.8</td>\n",
       "      <td>0.5</td>\n",
       "      <td>1.6</td>\n",
       "      <td>1.8</td>\n",
       "      <td>22.3</td>\n",
       "    </tr>\n",
       "    <tr>\n",
       "      <td>1</td>\n",
       "      <td>2</td>\n",
       "      <td>Stephen Curry</td>\n",
       "      <td>28</td>\n",
       "      <td>79</td>\n",
       "      <td>79</td>\n",
       "      <td>33.4</td>\n",
       "      <td>8.5</td>\n",
       "      <td>18.3</td>\n",
       "      <td>0.468</td>\n",
       "      <td>4.1</td>\n",
       "      <td>...</td>\n",
       "      <td>0.898</td>\n",
       "      <td>0.8</td>\n",
       "      <td>3.7</td>\n",
       "      <td>4.5</td>\n",
       "      <td>6.6</td>\n",
       "      <td>1.8</td>\n",
       "      <td>0.2</td>\n",
       "      <td>3.0</td>\n",
       "      <td>2.3</td>\n",
       "      <td>25.3</td>\n",
       "    </tr>\n",
       "    <tr>\n",
       "      <td>2</td>\n",
       "      <td>3</td>\n",
       "      <td>Kevin Durant</td>\n",
       "      <td>28</td>\n",
       "      <td>62</td>\n",
       "      <td>62</td>\n",
       "      <td>33.4</td>\n",
       "      <td>8.9</td>\n",
       "      <td>16.5</td>\n",
       "      <td>0.537</td>\n",
       "      <td>1.9</td>\n",
       "      <td>...</td>\n",
       "      <td>0.875</td>\n",
       "      <td>0.6</td>\n",
       "      <td>7.6</td>\n",
       "      <td>8.3</td>\n",
       "      <td>4.8</td>\n",
       "      <td>1.1</td>\n",
       "      <td>1.6</td>\n",
       "      <td>2.2</td>\n",
       "      <td>1.9</td>\n",
       "      <td>25.1</td>\n",
       "    </tr>\n",
       "    <tr>\n",
       "      <td>3</td>\n",
       "      <td>4</td>\n",
       "      <td>Draymond Green</td>\n",
       "      <td>26</td>\n",
       "      <td>76</td>\n",
       "      <td>76</td>\n",
       "      <td>32.5</td>\n",
       "      <td>3.6</td>\n",
       "      <td>8.6</td>\n",
       "      <td>0.418</td>\n",
       "      <td>1.1</td>\n",
       "      <td>...</td>\n",
       "      <td>0.709</td>\n",
       "      <td>1.3</td>\n",
       "      <td>6.6</td>\n",
       "      <td>7.9</td>\n",
       "      <td>7.0</td>\n",
       "      <td>2.0</td>\n",
       "      <td>1.4</td>\n",
       "      <td>2.4</td>\n",
       "      <td>2.9</td>\n",
       "      <td>10.2</td>\n",
       "    </tr>\n",
       "    <tr>\n",
       "      <td>4</td>\n",
       "      <td>5</td>\n",
       "      <td>Andre Iguodala</td>\n",
       "      <td>33</td>\n",
       "      <td>76</td>\n",
       "      <td>0</td>\n",
       "      <td>26.3</td>\n",
       "      <td>2.9</td>\n",
       "      <td>5.5</td>\n",
       "      <td>0.528</td>\n",
       "      <td>0.8</td>\n",
       "      <td>...</td>\n",
       "      <td>0.706</td>\n",
       "      <td>0.7</td>\n",
       "      <td>3.3</td>\n",
       "      <td>4.0</td>\n",
       "      <td>3.4</td>\n",
       "      <td>1.0</td>\n",
       "      <td>0.5</td>\n",
       "      <td>0.8</td>\n",
       "      <td>1.3</td>\n",
       "      <td>7.6</td>\n",
       "    </tr>\n",
       "  </tbody>\n",
       "</table>\n",
       "<p>5 rows × 28 columns</p>\n",
       "</div>"
      ],
      "text/plain": [
       "   Rk          Player  Age   G  GS    MP   FG   FGA    FG%   3P  ...    FT%  \\\n",
       "0   1   Klay Thompson   26  78  78  34.0  8.3  17.6  0.468  3.4  ...  0.853   \n",
       "1   2   Stephen Curry   28  79  79  33.4  8.5  18.3  0.468  4.1  ...  0.898   \n",
       "2   3    Kevin Durant   28  62  62  33.4  8.9  16.5  0.537  1.9  ...  0.875   \n",
       "3   4  Draymond Green   26  76  76  32.5  3.6   8.6  0.418  1.1  ...  0.709   \n",
       "4   5  Andre Iguodala   33  76   0  26.3  2.9   5.5  0.528  0.8  ...  0.706   \n",
       "\n",
       "   ORB  DRB  TRB  AST  STL  BLK  TOV   PF  PTS/G  \n",
       "0  0.6  3.0  3.7  2.1  0.8  0.5  1.6  1.8   22.3  \n",
       "1  0.8  3.7  4.5  6.6  1.8  0.2  3.0  2.3   25.3  \n",
       "2  0.6  7.6  8.3  4.8  1.1  1.6  2.2  1.9   25.1  \n",
       "3  1.3  6.6  7.9  7.0  2.0  1.4  2.4  2.9   10.2  \n",
       "4  0.7  3.3  4.0  3.4  1.0  0.5  0.8  1.3    7.6  \n",
       "\n",
       "[5 rows x 28 columns]"
      ]
     },
     "execution_count": 6,
     "metadata": {},
     "output_type": "execute_result"
    }
   ],
   "source": [
    "goldenStateWarriors17.head()"
   ]
  },
  {
   "cell_type": "markdown",
   "metadata": {},
   "source": [
    "**For each championship team we have conducted a linear regression. By doing this, it allows us determine which of a players' statistic variables can predict their games started. This will give us an idea of what the coach of these championship teams used to determine which players to started in games. Furthermoe,we are going to predict Y, total \"GS\" (Games Started) for players of a championship team. The mulitple predictors we are going to testare:**\n",
    "\n",
    "- \"FT%\" (average free throw percentage in the season)\n",
    "- \"FG%\" (average field goal percentage)\n",
    "- \"TRB\" (total rebounds)\n",
    "- \"AST\" (total assits)\n",
    "- \"STL\" (total steals)\n",
    "- \"BLK\" (total blocks)\n",
    "- \"TOV\" (total turnovers)\n",
    "\n",
    "**We will be looking at the regression coefficient values of each relationship after normalizing the variables to determine which variable was a better predictor in each championship team**\n",
    "\n",
    "**Before we run the linear regressions though, lets first visualize each relationship for each team:**"
   ]
  },
  {
   "cell_type": "code",
   "execution_count": 7,
   "metadata": {},
   "outputs": [],
   "source": [
    "predictors = ['FG%', 'FT%', 'TRB', 'AST', 'STL', 'BLK', 'TOV']\n",
    "teams = [bostonCeltics86, chicagoBulls97, losAngelesLakers10, goldenStateWarriors17]"
   ]
  },
  {
   "cell_type": "code",
   "execution_count": 8,
   "metadata": {},
   "outputs": [],
   "source": [
    "def plotRelationships(predictor, team):\n",
    "    plt.scatter(team[predictor], team[\"GS\"])\n",
    "    plt.title(predictor)\n",
    "    plt.xlabel(predictor)\n",
    "    plt.ylabel(\"Games Started\")\n",
    "    plt.show()"
   ]
  },
  {
   "cell_type": "markdown",
   "metadata": {},
   "source": [
    "**Boston Celtics 85-86:**"
   ]
  },
  {
   "cell_type": "code",
   "execution_count": 9,
   "metadata": {},
   "outputs": [
    {
     "data": {
      "image/png": "[encoded data removed]",
      "text/plain": [
       "<Figure size 432x288 with 1 Axes>"
      ]
     },
     "metadata": {
      "needs_background": "light"
     },
     "output_type": "display_data"
    },
    {
     "data": {
      "image/png": "[encoded data removed]",
      "text/plain": [
       "<Figure size 432x288 with 1 Axes>"
      ]
     },
     "metadata": {
      "needs_background": "light"
     },
     "output_type": "display_data"
    },
    {
     "data": {
      "image/png": "[encoded data removed]",
      "text/plain": [
       "<Figure size 432x288 with 1 Axes>"
      ]
     },
     "metadata": {
      "needs_background": "light"
     },
     "output_type": "display_data"
    },
    {
     "data": {
      "image/png": "[encoded data removed]",
      "text/plain": [
       "<Figure size 432x288 with 1 Axes>"
      ]
     },
     "metadata": {
      "needs_background": "light"
     },
     "output_type": "display_data"
    },
    {
     "data": {
      "image/png": "[encoded data removed]",
      "text/plain": [
       "<Figure size 432x288 with 1 Axes>"
      ]
     },
     "metadata": {
      "needs_background": "light"
     },
     "output_type": "display_data"
    },
    {
     "data": {
      "image/png": "[encoded data removed]",
      "text/plain": [
       "<Figure size 432x288 with 1 Axes>"
      ]
     },
     "metadata": {
      "needs_background": "light"
     },
     "output_type": "display_data"
    },
    {
     "data": {
      "image/png": "[encoded data removed]",
      "text/plain": [
       "<Figure size 432x288 with 1 Axes>"
      ]
     },
     "metadata": {
      "needs_background": "light"
     },
     "output_type": "display_data"
    }
   ],
   "source": [
    "team = teams[0]\n",
    "for predictor in predictors:\n",
    "    plotRelationships(predictor, team)"
   ]
  },
  {
   "cell_type": "markdown",
   "metadata": {},
   "source": [
    "**Chicago Bulls 96-97:**"
   ]
  },
  {
   "cell_type": "code",
   "execution_count": 10,
   "metadata": {},
   "outputs": [
    {
     "data": {
      "image/png": "[encoded data removed]",
      "text/plain": [
       "<Figure size 432x288 with 1 Axes>"
      ]
     },
     "metadata": {
      "needs_background": "light"
     },
     "output_type": "display_data"
    },
    {
     "data": {
      "image/png": "[encoded data removed]",
      "text/plain": [
       "<Figure size 432x288 with 1 Axes>"
      ]
     },
     "metadata": {
      "needs_background": "light"
     },
     "output_type": "display_data"
    },
    {
     "data": {
      "image/png": "[encoded data removed]",
      "text/plain": [
       "<Figure size 432x288 with 1 Axes>"
      ]
     },
     "metadata": {
      "needs_background": "light"
     },
     "output_type": "display_data"
    },
    {
     "data": {
      "image/png": "[encoded data removed]",
      "text/plain": [
       "<Figure size 432x288 with 1 Axes>"
      ]
     },
     "metadata": {
      "needs_background": "light"
     },
     "output_type": "display_data"
    },
    {
     "data": {
      "image/png": "[encoded data removed]",
      "text/plain": [
       "<Figure size 432x288 with 1 Axes>"
      ]
     },
     "metadata": {
      "needs_background": "light"
     },
     "output_type": "display_data"
    },
    {
     "data": {
      "image/png": "[encoded data removed]",
      "text/plain": [
       "<Figure size 432x288 with 1 Axes>"
      ]
     },
     "metadata": {
      "needs_background": "light"
     },
     "output_type": "display_data"
    },
    {
     "data": {
      "image/png": "[encoded data removed]",
      "text/plain": [
       "<Figure size 432x288 with 1 Axes>"
      ]
     },
     "metadata": {
      "needs_background": "light"
     },
     "output_type": "display_data"
    }
   ],
   "source": [
    "team = teams[1]\n",
    "for predictor in predictors:\n",
    "    plotRelationships(predictor, team)"
   ]
  },
  {
   "cell_type": "markdown",
   "metadata": {},
   "source": [
    "**Los Angeles Lakers 09-10:**"
   ]
  },
  {
   "cell_type": "code",
   "execution_count": 11,
   "metadata": {},
   "outputs": [
    {
     "data": {
      "image/png": "[encoded data removed]",
      "text/plain": [
       "<Figure size 432x288 with 1 Axes>"
      ]
     },
     "metadata": {
      "needs_background": "light"
     },
     "output_type": "display_data"
    },
    {
     "data": {
      "image/png": "[encoded data removed]",
      "text/plain": [
       "<Figure size 432x288 with 1 Axes>"
      ]
     },
     "metadata": {
      "needs_background": "light"
     },
     "output_type": "display_data"
    },
    {
     "data": {
      "image/png": "[encoded data removed]",
      "text/plain": [
       "<Figure size 432x288 with 1 Axes>"
      ]
     },
     "metadata": {
      "needs_background": "light"
     },
     "output_type": "display_data"
    },
    {
     "data": {
      "image/png": "[encoded data removed]",
      "text/plain": [
       "<Figure size 432x288 with 1 Axes>"
      ]
     },
     "metadata": {
      "needs_background": "light"
     },
     "output_type": "display_data"
    },
    {
     "data": {
      "image/png": "[encoded data removed]",
      "text/plain": [
       "<Figure size 432x288 with 1 Axes>"
      ]
     },
     "metadata": {
      "needs_background": "light"
     },
     "output_type": "display_data"
    },
    {
     "data": {
      "image/png": "[encoded data removed]",
      "text/plain": [
       "<Figure size 432x288 with 1 Axes>"
      ]
     },
     "metadata": {
      "needs_background": "light"
     },
     "output_type": "display_data"
    },
    {
     "data": {
      "image/png": "[encoded data removed]",
      "text/plain": [
       "<Figure size 432x288 with 1 Axes>"
      ]
     },
     "metadata": {
      "needs_background": "light"
     },
     "output_type": "display_data"
    }
   ],
   "source": [
    "team = teams[2]\n",
    "for predictor in predictors:\n",
    "    plotRelationships(predictor, team)"
   ]
  },
  {
   "cell_type": "markdown",
   "metadata": {},
   "source": [
    "**Golden State Warriors 16-17:**"
   ]
  },
  {
   "cell_type": "code",
   "execution_count": 12,
   "metadata": {
    "scrolled": false
   },
   "outputs": [
    {
     "data": {
      "image/png": "[encoded data removed]",
      "text/plain": [
       "<Figure size 432x288 with 1 Axes>"
      ]
     },
     "metadata": {
      "needs_background": "light"
     },
     "output_type": "display_data"
    },
    {
     "data": {
      "image/png": "[encoded data removed]",
      "text/plain": [
       "<Figure size 432x288 with 1 Axes>"
      ]
     },
     "metadata": {
      "needs_background": "light"
     },
     "output_type": "display_data"
    },
    {
     "data": {
      "image/png": "[encoded data removed]",
      "text/plain": [
       "<Figure size 432x288 with 1 Axes>"
      ]
     },
     "metadata": {
      "needs_background": "light"
     },
     "output_type": "display_data"
    },
    {
     "data": {
      "image/png": "[encoded data removed]",
      "text/plain": [
       "<Figure size 432x288 with 1 Axes>"
      ]
     },
     "metadata": {
      "needs_background": "light"
     },
     "output_type": "display_data"
    },
    {
     "data": {
      "image/png": "[encoded data removed]",
      "text/plain": [
       "<Figure size 432x288 with 1 Axes>"
      ]
     },
     "metadata": {
      "needs_background": "light"
     },
     "output_type": "display_data"
    },
    {
     "data": {
      "image/png": "[encoded data removed]",
      "text/plain": [
       "<Figure size 432x288 with 1 Axes>"
      ]
     },
     "metadata": {
      "needs_background": "light"
     },
     "output_type": "display_data"
    },
    {
     "data": {
      "image/png": "[encoded data removed]",
      "text/plain": [
       "<Figure size 432x288 with 1 Axes>"
      ]
     },
     "metadata": {
      "needs_background": "light"
     },
     "output_type": "display_data"
    }
   ],
   "source": [
    "team = teams[3]\n",
    "for predictor in predictors:\n",
    "    plotRelationships(predictor, team)"
   ]
  },
  {
   "cell_type": "markdown",
   "metadata": {},
   "source": [
    "**We will now fit a regression model for all of these relationships for each team and print the slope and intercept to get an idea of how the two variables are correlated.**\n",
    "\n",
    "**We will then normalize the predictor columns and \"GS\" columns and then fit a regression model for each relationship to compare their regression coefficient inorder to conclude which predictor was a better fit.**"
   ]
  },
  {
   "cell_type": "code",
   "execution_count": 13,
   "metadata": {},
   "outputs": [],
   "source": [
    "def linearRegression(team, predictor):\n",
    "    return LinearRegression().fit(team[[predictor]], team['GS'])"
   ]
  },
  {
   "cell_type": "code",
   "execution_count": 14,
   "metadata": {},
   "outputs": [
    {
     "name": "stdout",
     "output_type": "stream",
     "text": [
      "FG% Slope: 144.57887325869112 Intercept: -36.7138880914298\n",
      "FT% Slope: 106.53095069569392 Intercept: -47.114158829020774\n",
      "TRB Slope: 7.441642617762055 Intercept: 1.829134472165343\n",
      "AST Slope: 13.749109052031368 Intercept: -1.4594001864137454\n",
      "STL Slope: 52.06315381635026 Intercept: -1.7018597442851657\n",
      "BLK Slope: 23.681300813008118 Intercept: 18.786991869918708\n",
      "TOV Slope: 34.594548840358904 Intercept: -17.958354494667347\n"
     ]
    }
   ],
   "source": [
    "slopes_Team0 = []\n",
    "intercepts_Team0 = []\n",
    "team = teams[0]\n",
    "for predictor in predictors:\n",
    "    lr = linearRegression(team, predictor)\n",
    "    slopes_Team0.append(lr.coef_[0])\n",
    "    intercepts_Team0.append(lr.intercept_)\n",
    "    \n",
    "\n",
    "for index in range(len(predictors)):\n",
    "    print(predictors[index] + \" Slope: \" + str(slopes_Team0[index]) + \" Intercept: \" + str(intercepts_Team0[index]))"
   ]
  },
  {
   "cell_type": "code",
   "execution_count": 15,
   "metadata": {},
   "outputs": [
    {
     "name": "stdout",
     "output_type": "stream",
     "text": [
      "FG% Slope: 133.0926077011493 Intercept: -31.289523938766227\n",
      "FT% Slope: 74.47596279497073 Intercept: -23.866408556115868\n",
      "TRB Slope: 4.688602083446368 Intercept: 8.172579485649173\n",
      "AST Slope: 14.912849990728725 Intercept: -4.977841646578906\n",
      "STL Slope: 38.76106194690266 Intercept: 0.20058997050147198\n",
      "BLK Slope: 55.602883355176935 Intercept: 5.833551769331585\n",
      "TOV Slope: 34.39818631492169 Intercept: -13.7151690024732\n"
     ]
    }
   ],
   "source": [
    "slopes_Team1 = []\n",
    "intercepts_Team1 = []\n",
    "team = teams[1]\n",
    "for predictor in predictors:\n",
    "    lr = linearRegression(team, predictor)\n",
    "    slopes_Team1.append(lr.coef_[0])\n",
    "    intercepts_Team1.append(lr.intercept_)\n",
    "    \n",
    "\n",
    "for index in range(len(predictors)):\n",
    "    print(predictors[index] + \" Slope: \" + str(slopes_Team1[index]) + \" Intercept: \" + str(intercepts_Team1[index]))"
   ]
  },
  {
   "cell_type": "code",
   "execution_count": 16,
   "metadata": {},
   "outputs": [
    {
     "name": "stdout",
     "output_type": "stream",
     "text": [
      "FG% Slope: 242.23989121255755 Intercept: -73.70545427450193\n",
      "FT% Slope: 146.66872236081304 Intercept: -71.78401226002507\n",
      "TRB Slope: 5.984474347182789 Intercept: 7.554529731675132\n",
      "AST Slope: 18.174382716049386 Intercept: -2.5734567901234655\n",
      "STL Slope: 58.65200225606317 Intercept: -5.4574168076706115\n",
      "BLK Slope: 29.107303877366995 Intercept: 18.328223624887293\n",
      "TOV Slope: 30.632921419518375 Intercept: -4.0428548795944295\n"
     ]
    }
   ],
   "source": [
    "slopes_Team2 = []\n",
    "intercepts_Team2 = []\n",
    "team = teams[2]\n",
    "for predictor in predictors:\n",
    "    lr = linearRegression(team, predictor)\n",
    "    slopes_Team2.append(lr.coef_[0])\n",
    "    intercepts_Team2.append(lr.intercept_)\n",
    "    \n",
    "\n",
    "for index in range(len(predictors)):\n",
    "    print(predictors[index] + \" Slope: \" + str(slopes_Team2[index]) + \" Intercept: \" + str(intercepts_Team2[index]))"
   ]
  },
  {
   "cell_type": "code",
   "execution_count": 17,
   "metadata": {},
   "outputs": [
    {
     "name": "stdout",
     "output_type": "stream",
     "text": [
      "FG% Slope: -19.545741275069346 Intercept: 33.65711855054414\n",
      "FT% Slope: 106.93892662581511 Intercept: -51.47559301543648\n",
      "TRB Slope: 10.934747194400874 Intercept: -13.832357909979507\n",
      "AST Slope: 11.035439932864252 Intercept: 0.2291653217997336\n",
      "STL Slope: 47.431251606270905 Intercept: -8.526214340786453\n",
      "BLK Slope: 33.62047947988623 Intercept: 6.318569687119059\n",
      "TOV Slope: 35.09813194608654 Intercept: -13.664459683140208\n"
     ]
    }
   ],
   "source": [
    "slopes_Team3 = []\n",
    "intercepts_Team3 = []\n",
    "team = teams[3]\n",
    "for predictor in predictors:\n",
    "    lr = linearRegression(team, predictor)\n",
    "    slopes_Team3.append(lr.coef_[0])\n",
    "    intercepts_Team3.append(lr.intercept_)\n",
    "    \n",
    "\n",
    "for index in range(len(predictors)):\n",
    "    print(predictors[index] + \" Slope: \" + str(slopes_Team3[index]) + \" Intercept: \" + str(intercepts_Team3[index]))"
   ]
  },
  {
   "cell_type": "markdown",
   "metadata": {},
   "source": [
    "**As we can see most of these relationships for each team are postiviely correlated. The only exception here is the FG% for the Golden State Warriors.**"
   ]
  },
  {
   "cell_type": "markdown",
   "metadata": {},
   "source": [
    "**We will now normalize the variables and conduct the linear regressions again then compare the regression coefficient. We normalize the variables by subtracting the mean and dividing by the standard deviation.**"
   ]
  },
  {
   "cell_type": "code",
   "execution_count": 18,
   "metadata": {},
   "outputs": [],
   "source": [
    "originalTeams = []\n",
    "\n",
    "originalBostonCeltics86 = bostonCeltics86.copy()\n",
    "originalChicagoBulls97 = chicagoBulls97.copy()\n",
    "originalLosAngelesLakers10 = losAngelesLakers10.copy()\n",
    "originalGoldenStateWarriors17 = goldenStateWarriors17.copy()\n",
    "\n",
    "originalTeams.append(originalBostonCeltics86)\n",
    "originalTeams.append(originalChicagoBulls97)\n",
    "originalTeams.append(originalLosAngelesLakers10)\n",
    "originalTeams.append(originalGoldenStateWarriors17)"
   ]
  },
  {
   "cell_type": "code",
   "execution_count": 19,
   "metadata": {},
   "outputs": [],
   "source": [
    "for team in teams:\n",
    "    meanGS = team[\"GS\"].mean()\n",
    "    stdGS = team[\"GS\"].std()\n",
    "    team[\"GS\"] = ((team[\"GS\"]-meanGS)/stdGS)\n",
    "    for predictor in predictors:\n",
    "        mean = team[predictor].mean()\n",
    "        std = team[predictor].std()\n",
    "        team[predictor] = ((team[predictor]-mean)/std)"
   ]
  },
  {
   "cell_type": "code",
   "execution_count": 20,
   "metadata": {},
   "outputs": [
    {
     "name": "stdout",
     "output_type": "stream",
     "text": [
      "FG% Regression Coefficient: 0.37802559232937843\n",
      "FT% Regression Coefficient: 0.4598260671412441\n",
      "TRB Regression Coefficient: 0.6669120229920344\n",
      "AST Regression Coefficient: 0.8027905214645219\n",
      "STL Regression Coefficient: 0.8086054143599769\n",
      "BLK Regression Coefficient: 0.4014581551888072\n",
      "TOV Regression Coefficient: 0.8128367423672338\n"
     ]
    }
   ],
   "source": [
    "lrs_team0 = []\n",
    "team = teams[0]\n",
    "for predictor in predictors:\n",
    "    lr = linearRegression(team, predictor)\n",
    "    lrs_team0.append(lr.coef_[0])\n",
    "\n",
    "for index in range(len(predictors)):\n",
    "    print(predictors[index] + \" Regression Coefficient: \" + str(lrs_team0[index]))"
   ]
  },
  {
   "cell_type": "markdown",
   "metadata": {},
   "source": [
    "**For the Celtics a players \"TOV\" (Total Turnovers) predicts their \"GS\" Total Games Started better as \"TOV\" had the largest reggression coefficient.**"
   ]
  },
  {
   "cell_type": "code",
   "execution_count": 21,
   "metadata": {},
   "outputs": [
    {
     "name": "stdout",
     "output_type": "stream",
     "text": [
      "FG% Regression Coefficient: 0.3095096086917518\n",
      "FT% Regression Coefficient: 0.2944427843710567\n",
      "TRB Regression Coefficient: 0.5353540799532104\n",
      "AST Regression Coefficient: 0.7281806917936827\n",
      "STL Regression Coefficient: 0.6710792549004576\n",
      "BLK Regression Coefficient: 0.4567072223229161\n",
      "TOV Regression Coefficient: 0.7124825598038929\n"
     ]
    }
   ],
   "source": [
    "lrs_team1 = []\n",
    "team = teams[1]\n",
    "for predictor in predictors:\n",
    "    lr = linearRegression(team, predictor)\n",
    "    lrs_team1.append(lr.coef_[0])\n",
    "\n",
    "for index in range(len(predictors)):\n",
    "    print(predictors[index] + \" Regression Coefficient: \" + str(lrs_team1[index]))"
   ]
  },
  {
   "cell_type": "markdown",
   "metadata": {},
   "source": [
    "**For the Warriors a players \"AST\" (Total Assits) predicts their \"GS\" Total Games Started better as \"AST\" had the largest reggression coefficient.**"
   ]
  },
  {
   "cell_type": "code",
   "execution_count": 22,
   "metadata": {},
   "outputs": [
    {
     "name": "stdout",
     "output_type": "stream",
     "text": [
      "FG% Regression Coefficient: 0.4402984501278955\n",
      "FT% Regression Coefficient: 0.5117548892823972\n",
      "TRB Regression Coefficient: 0.6061716633718803\n",
      "AST Regression Coefficient: 0.740842697939097\n",
      "STL Regression Coefficient: 0.7909445512835194\n",
      "BLK Regression Coefficient: 0.43902735278737864\n",
      "TOV Regression Coefficient: 0.7794365013659683\n"
     ]
    }
   ],
   "source": [
    "lrs_team2 = []\n",
    "team = teams[2]\n",
    "for predictor in predictors:\n",
    "    lr = linearRegression(team, predictor)\n",
    "    lrs_team2.append(lr.coef_[0])\n",
    "    \n",
    "for index in range(len(predictors)):\n",
    "    print(predictors[index] + \" Regression Coefficient: \" + str(lrs_team2[index]))"
   ]
  },
  {
   "cell_type": "markdown",
   "metadata": {},
   "source": [
    "**For the Lakers a players \"STL\" (Total Steals) predicts their \"GS\" Total Games Started better as \"STL\" had the largest reggression coefficient.**"
   ]
  },
  {
   "cell_type": "code",
   "execution_count": 23,
   "metadata": {},
   "outputs": [
    {
     "name": "stdout",
     "output_type": "stream",
     "text": [
      "FG% Regression Coefficient: -0.04414666154908349\n",
      "FT% Regression Coefficient: 0.5041871091409058\n",
      "TRB Regression Coefficient: 0.7297565307215856\n",
      "AST Regression Coefficient: 0.7120081328154451\n",
      "STL Regression Coefficient: 0.7668682912753725\n",
      "BLK Regression Coefficient: 0.432300054431942\n",
      "TOV Regression Coefficient: 0.8366492444954238\n"
     ]
    }
   ],
   "source": [
    "lrs_team3 = []\n",
    "team = teams[3]\n",
    "for predictor in predictors:\n",
    "    lr = linearRegression(team, predictor)\n",
    "    lrs_team3.append(lr.coef_[0])\n",
    "\n",
    "for index in range(len(predictors)):\n",
    "    print(predictors[index] + \" Regression Coefficient: \" + str(lrs_team3[index]))"
   ]
  },
  {
   "cell_type": "markdown",
   "metadata": {},
   "source": [
    "**For the Warriors a players \"TOV\" (Total Turnovers) predicts their \"GS\" Total Games Started better as \"TOV\" had the largest reggression coefficient.**"
   ]
  },
  {
   "cell_type": "markdown",
   "metadata": {},
   "source": [
    "**For each team we now want to know if the top 5 players with the most games started are also the top 5 players with the most/hightest predictive variable(FG%, FT%, TRB, etc).**"
   ]
  },
  {
   "cell_type": "code",
   "execution_count": 24,
   "metadata": {},
   "outputs": [
    {
     "name": "stdout",
     "output_type": "stream",
     "text": [
      "80.0% of the top 5 players with the most games started also were also the top 5 players with the most/highest TOV for the Celtics\n",
      " \n",
      "80.0% of the top 5 players with the most games started also were also the top 5 players with the most/highest AST for the Bulls\n",
      " \n",
      "73.33333333333333% of the top 5 players with the most games started also were also the top 5 players with the most/highest STL for the Lakers\n",
      " \n",
      "75.0% of the top 5 players with the most games started also were also the top 5 players with the most/highest TOV for the Warriors\n",
      " \n"
     ]
    }
   ],
   "source": [
    "main_Predictors = [\"TOV\", \"AST\", \"STL\", \"TOV\"]\n",
    "champions = [\"Celtics\", \"Bulls\", \"Lakers\", \"Warriors\"]\n",
    "percents = []\n",
    "list_Predictor = []\n",
    "list_GamesStarted = []\n",
    "for index in range(len(originalTeams)):\n",
    "    count = 0\n",
    "    main_predictor = (originalTeams[index].sort_values(by=[main_Predictors[index]], ascending=False))[\"Player\"].head()\n",
    "    GS = (originalTeams[index].sort_values(by=[\"GS\"], ascending=False))[\"Player\"].head()\n",
    "    for name in main_predictor:\n",
    "        list_Predictor.append(name)\n",
    "    for name in GS:\n",
    "        list_GamesStarted.append(name)\n",
    "    for name in list_GamesStarted:\n",
    "        if name in list_Predictor:\n",
    "            count+=1\n",
    "    percents.append((count/len(list_Predictor))*100)\n",
    "    print(str(percents[index]) + \"% of the top 5 players with the most games started also were also the top 5 players with the most/highest \" + main_Predictors[index] + \" for the \" + champions[index])\n",
    "    print(\" \")\n"
   ]
  },
  {
   "cell_type": "markdown",
   "metadata": {},
   "source": [
    "**In each team, as our linear reggression model predicted, the predictor variable with the largest regression coefficient plays the biggest factor in determining a players number of games started as the majorty of the top 5 players with the most games started hold the top 5 stats for that predictor variable.**"
   ]
  },
  {
   "cell_type": "markdown",
   "metadata": {},
   "source": [
    "**In order to further ensure our conclusions are accurate we will perform 1000 random permutations to comapare relationships to simple randomness.**"
   ]
  },
  {
   "cell_type": "code",
   "execution_count": 25,
   "metadata": {},
   "outputs": [],
   "source": [
    "def permuted_GS(team):\n",
    "    return np.random.permutation(team[\"GS\"].copy())"
   ]
  },
  {
   "cell_type": "code",
   "execution_count": 26,
   "metadata": {},
   "outputs": [
    {
     "data": {
      "image/png": "[encoded data removed]",
      "text/plain": [
       "<Figure size 432x288 with 1 Axes>"
      ]
     },
     "metadata": {
      "needs_background": "light"
     },
     "output_type": "display_data"
    },
    {
     "name": "stdout",
     "output_type": "stream",
     "text": [
      "Number of larger slopes: 0\n"
     ]
    },
    {
     "data": {
      "image/png": "[encoded data removed]",
      "text/plain": [
       "<Figure size 432x288 with 1 Axes>"
      ]
     },
     "metadata": {
      "needs_background": "light"
     },
     "output_type": "display_data"
    },
    {
     "name": "stdout",
     "output_type": "stream",
     "text": [
      "Number of larger slopes: 2\n"
     ]
    },
    {
     "data": {
      "image/png": "[encoded data removed]",
      "text/plain": [
       "<Figure size 432x288 with 1 Axes>"
      ]
     },
     "metadata": {
      "needs_background": "light"
     },
     "output_type": "display_data"
    },
    {
     "name": "stdout",
     "output_type": "stream",
     "text": [
      "Number of larger slopes: 2\n"
     ]
    },
    {
     "data": {
      "image/png": "[encoded data removed]",
      "text/plain": [
       "<Figure size 432x288 with 1 Axes>"
      ]
     },
     "metadata": {
      "needs_background": "light"
     },
     "output_type": "display_data"
    },
    {
     "name": "stdout",
     "output_type": "stream",
     "text": [
      "Number of larger slopes: 0\n"
     ]
    }
   ],
   "source": [
    "actualSlope = [34.594548840358904, 14.912849990728725, 58.65200225606317, 35.09813194608654]\n",
    "for index in range(len(main_Predictors)):\n",
    "    fake_slopes = np.zeros(1000)\n",
    "    team = originalTeams[index]\n",
    "    for i in range(1000):\n",
    "        fake_GS = permuted_GS(team)\n",
    "        fake_model = LinearRegression().fit(team[[main_Predictors[index]]], fake_GS)\n",
    "        fake_slope = fake_model.coef_[0]\n",
    "        fake_slopes[i] = fake_slope\n",
    "\n",
    "    plt.hist(fake_slopes, bins=30)\n",
    "    plt.title(champions[index] + \" \" + main_Predictors[index])\n",
    "    plt.xlabel(\"Slopes\")\n",
    "    plt.ylabel(\"Count\")\n",
    "    plt.show()\n",
    "\n",
    "    count = 0\n",
    "    for slope in fake_slopes:\n",
    "        if np.abs(slope) > actualSlope[index]:\n",
    "            count+=1\n",
    "\n",
    "    print(\"Number of larger slopes: \" + str(count))\n"
   ]
  },
  {
   "cell_type": "markdown",
   "metadata": {},
   "source": [
    "**For each team, as the number of larger slopes is relatively small, we can conclude that the postive correlation between Games Started and each team's most predictive variable is reasonable.**"
   ]
  }
 ],
 "metadata": {
  "kernelspec": {
   "display_name": "Python 3",
   "language": "python",
   "name": "python3"
  },
  "language_info": {
   "codemirror_mode": {
    "name": "ipython",
    "version": 3
   },
   "file_extension": ".py",
   "mimetype": "text/x-python",
   "name": "python",
   "nbconvert_exporter": "python",
   "pygments_lexer": "ipython3",
   "version": "3.6.5"
  }
 },
 "nbformat": 4,
 "nbformat_minor": 2
}
