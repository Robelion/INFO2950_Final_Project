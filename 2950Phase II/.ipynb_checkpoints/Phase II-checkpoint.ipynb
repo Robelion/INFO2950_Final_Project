{
 "cells": [
  {
   "cell_type": "markdown",
   "metadata": {},
   "source": [
    "# Research Question "
   ]
  },
  {
   "cell_type": "markdown",
   "metadata": {},
   "source": [
    "- Is a basketball player's free throw percentage or 2-point field goal percentage a better indicator of their 3-point percentage? To investigate this we will look at the yearly statsistics of three of the best 3-point shooters in NBA history: Reggie Miller, Ray Allen, and Stephen Curry for the first 10 years of their career. We will compute two different regression models for each player using inputs free throw percentage average and 2-point field goal percentage average for the first 10 years of their career. For each player we will then determine which indicator, free throw percentage or 2-point field goal percentage projected to be a better fit for estimating 3-point percentage."
   ]
  },
  {
   "cell_type": "markdown",
   "metadata": {},
   "source": [
    "## Potential Problems With Datesets"
   ]
  },
  {
   "cell_type": "markdown",
   "metadata": {},
   "source": [
    "- Steph Curry's data for 2019-2020 season might be not good a represtation of his past seasons due to COVID-19.\n",
    "- NBA seasons that had lockouts experienced shorter season. \n",
    "- Players were some times injured during a season for prolonged periods of time and played fewer games.\n",
    "- Some players might have been suspended during a season."
   ]
  },
  {
   "cell_type": "markdown",
   "metadata": {},
   "source": [
    "## Initial Data Describtion Section"
   ]
  },
  {
   "cell_type": "markdown",
   "metadata": {},
   "source": [
    "**What are the observations (rows) and the attributes (columns)?**"
   ]
  },
  {
   "cell_type": "markdown",
   "metadata": {},
   "source": [
    "- The rows are the different seasons for each of the 3 point shooters. The columns are statistics for each player, per each game such as free throw percentage and 2-point field goal percentage."
   ]
  },
  {
   "cell_type": "markdown",
   "metadata": {},
   "source": [
    "**Why was this dataset created?**"
   ]
  },
  {
   "cell_type": "markdown",
   "metadata": {},
   "source": [
    "- This dataset was created for NBA fans as a resource to see how NBA teams' performance, in a number of categories, compare across each other, and across multiple seasons. "
   ]
  },
  {
   "cell_type": "markdown",
   "metadata": {},
   "source": [
    "**Who funded the creation of the dataset?**"
   ]
  },
  {
   "cell_type": "markdown",
   "metadata": {},
   "source": [
    "- This dataset was created by Sport Reference LLC."
   ]
  },
  {
   "cell_type": "markdown",
   "metadata": {},
   "source": [
    "**What processes might have influenced what data was observed and recorded and what was not?**"
   ]
  },
  {
   "cell_type": "markdown",
   "metadata": {},
   "source": [
    "- All actions by players in games are recorded in this dataset. The gaps in the  data were often caused by exogenous factors such as physical injury, NBA lockouts, or player suspensions. "
   ]
  },
  {
   "cell_type": "markdown",
   "metadata": {},
   "source": [
    "**What preprocessing was done, and how did the data come to be in the form that you are using?**"
   ]
  },
  {
   "cell_type": "markdown",
   "metadata": {},
   "source": [
    "- We copyed and pasted without formating on to excel and then saved the documnet as a .csv file for each players stats."
   ]
  },
  {
   "cell_type": "markdown",
   "metadata": {},
   "source": [
    "**If people are involved, were they aware of the data collection and if so, what purpose did they expect the data to be used for?**"
   ]
  },
  {
   "cell_type": "markdown",
   "metadata": {},
   "source": [
    "- The NBA players involved in this dataset are aware that this data was collected. These stats can be used to build the NBA brand. That includes marketing opportunities, policy creation and player awards. "
   ]
  },
  {
   "cell_type": "markdown",
   "metadata": {},
   "source": [
    "**Where can your raw source data be found, if applicable? Provide a link to the raw data (hosted in a Cornell Google Drive or Cornell Box).**"
   ]
  },
  {
   "cell_type": "markdown",
   "metadata": {},
   "source": [
    "- The raw data can be found here\n",
    "    - Reggie Miller: https://www.basketball-reference.com/players/m/millere01.html\n",
    "    - Ray Allen: https://www.basketball-reference.com/players/a/allenra02.html\n",
    "    - Stephen Curry: https://www.basketball-reference.com/players/c/curryst01.html"
   ]
  }
 ],
 "metadata": {
  "kernelspec": {
   "display_name": "Python 3",
   "language": "python",
   "name": "python3"
  },
  "language_info": {
   "codemirror_mode": {
    "name": "ipython",
    "version": 3
   },
   "file_extension": ".py",
   "mimetype": "text/x-python",
   "name": "python",
   "nbconvert_exporter": "python",
   "pygments_lexer": "ipython3",
   "version": "3.7.4"
  }
 },
 "nbformat": 4,
 "nbformat_minor": 2
}
